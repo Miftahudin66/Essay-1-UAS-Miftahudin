{
 "cells": [
  {
   "cell_type": "code",
   "execution_count": 6,
   "id": "78c697d8-ea38-4374-a849-45889d9a5a33",
   "metadata": {},
   "outputs": [
    {
     "name": "stdout",
     "output_type": "stream",
     "text": [
      "DataFrame:\n",
      "    student number   name            subject  grade\n",
      "0              101  Andri  Programming Basic     80\n",
      "1              102   Budi  Programming Basic     90\n",
      "2              103   Cika  Programming Basic    100\n",
      "3              104   Dedi  Programming Basic    100\n",
      "4              105    Eka  Programming Basic     50\n",
      "5              106   Feri  Programming Basic     40\n",
      "6              107  Galih  Programming Basic     70\n",
      "7              108   Huda  Programming Basic     70\n",
      "8              109  Intan  Programming Basic     60\n",
      "9              101  Andri    Web Programming     70\n",
      "10             102   Budi    Web Programming     80\n",
      "11             103   Cika    Web Programming     80\n",
      "12             104   Dedi    Web Programming     90\n",
      "13             105    Eka    Web Programming     90\n",
      "14             106   Feri    Web Programming     60\n",
      "15             107  Galih    Web Programming     95\n",
      "16             108   Huda    Web Programming     85\n",
      "17             109  Intan    Web Programming     90\n",
      "\n",
      "Data dengan nilai lebih besar dari 80:\n",
      "{'student number': 102, 'name': 'Budi', 'subject': 'Programming Basic', 'grade': 90}\n",
      "{'student number': 103, 'name': 'Cika', 'subject': 'Programming Basic', 'grade': 100}\n",
      "{'student number': 104, 'name': 'Dedi', 'subject': 'Programming Basic', 'grade': 100}\n",
      "{'student number': 104, 'name': 'Dedi', 'subject': 'Web Programming', 'grade': 90}\n",
      "{'student number': 105, 'name': 'Eka', 'subject': 'Web Programming', 'grade': 90}\n",
      "{'student number': 107, 'name': 'Galih', 'subject': 'Web Programming', 'grade': 95}\n",
      "{'student number': 108, 'name': 'Huda', 'subject': 'Web Programming', 'grade': 85}\n",
      "{'student number': 109, 'name': 'Intan', 'subject': 'Web Programming', 'grade': 90}\n"
     ]
    }
   ],
   "source": [
    "import pandas as pd\n",
    "\n",
    "# Data untuk tabel\n",
    "data = {\n",
    "    'student number': [101, 102, 103, 104, 105, 106, 107, 108, 109, 101, 102, 103, 104, 105, 106, 107, 108, 109],\n",
    "    'name': ['Andri', 'Budi', 'Cika', 'Dedi', 'Eka', 'Feri', 'Galih', 'Huda', 'Intan', 'Andri', 'Budi', 'Cika', 'Dedi', 'Eka', 'Feri', 'Galih', 'Huda', 'Intan'],\n",
    "    'subject': ['Programming Basic', 'Programming Basic', 'Programming Basic', 'Programming Basic', 'Programming Basic', 'Programming Basic', 'Programming Basic', 'Programming Basic','Programming Basic', 'Web Programming','Web Programming', 'Web Programming','Web Programming', 'Web Programming','Web Programming', 'Web Programming','Web Programming', 'Web Programming'],\n",
    "    'grade': [80, 90, 100, 100, 50, 40, 70, 70, 60, 70, 80, 80, 90, 90, 60, 95, 85, 90 ]\n",
    "}\n",
    "\n",
    "# Membuat DataFrame\n",
    "df = pd.DataFrame(data)\n",
    "\n",
    "# Mengubah DataFrame ke dalam bentuk dictionaries\n",
    "data_dict = df.to_dict(orient='records')\n",
    "\n",
    "# Menampilkan DataFrame\n",
    "print(\"DataFrame:\")\n",
    "print(df)\n",
    "\n",
    "# Menampilkan data yang mempunyai nilai lebih besar dari 80\n",
    "print(\"\\nData dengan nilai lebih besar dari 80:\")\n",
    "for record in data_dict:\n",
    "    if record['grade'] > 80:\n",
    "        print(record)\n"
   ]
  },
  {
   "cell_type": "code",
   "execution_count": null,
   "id": "0817b0aa-813e-4138-9de9-48d90fb947a4",
   "metadata": {},
   "outputs": [],
   "source": []
  }
 ],
 "metadata": {
  "kernelspec": {
   "display_name": "Python 3 (ipykernel)",
   "language": "python",
   "name": "python3"
  },
  "language_info": {
   "codemirror_mode": {
    "name": "ipython",
    "version": 3
   },
   "file_extension": ".py",
   "mimetype": "text/x-python",
   "name": "python",
   "nbconvert_exporter": "python",
   "pygments_lexer": "ipython3",
   "version": "3.11.7"
  }
 },
 "nbformat": 4,
 "nbformat_minor": 5
}
