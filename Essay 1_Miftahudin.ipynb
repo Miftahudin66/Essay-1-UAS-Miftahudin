{
 "cells": [
  {
   "cell_type": "code",
   "execution_count": 33,
   "id": "3fe786d6-9e8d-460f-b7aa-4f2c809dc82f",
   "metadata": {},
   "outputs": [
    {
     "name": "stdout",
     "output_type": "stream",
     "text": [
      "    student number   name            subject  grade\n",
      "0              101  Andri  Programming Basic     80\n",
      "1              102   Budi  Programming Basic     90\n",
      "2              103   Cika  Programming Basic    100\n",
      "3              104   Dedi  Programming Basic    100\n",
      "4              105    Eka  Programming Basic     50\n",
      "5              106   Feri  Programming Basic     40\n",
      "6              107  Galih  Programming Basic     70\n",
      "7              108   Huda  Programming Basic     70\n",
      "8              109  Intan  Programming Basic     60\n",
      "9              101  Andri    Web Programming     70\n",
      "10             102   Budi    Web Programming     80\n",
      "11             103   Cika    Web Programming     80\n",
      "12             104   Dedi    Web Programming     90\n",
      "13             105    Eka    Web Programming     90\n",
      "14             106   Feri    Web Programming     60\n",
      "15             107  Galih    Web Programming     95\n",
      "16             108   Huda    Web Programming     85\n",
      "17             109  Intan    Web Programming     90\n"
     ]
    }
   ],
   "source": [
    "import pandas as pd\n",
    "\n",
    "# Data untuk tabel\n",
    "data = {\n",
    "    'student number': [101, 102, 103, 104, 105, 106, 107, 108, 109, 101, 102, 103, 104, 105, 106, 107, 108, 109],\n",
    "    'name': ['Andri', 'Budi', 'Cika', 'Dedi', 'Eka', 'Feri', 'Galih', 'Huda', 'Intan', 'Andri', 'Budi', 'Cika', 'Dedi', 'Eka', 'Feri', 'Galih', 'Huda', 'Intan'],\n",
    "    'subject': ['Programming Basic', 'Programming Basic', 'Programming Basic', 'Programming Basic', 'Programming Basic', 'Programming Basic', 'Programming Basic', 'Programming Basic','Programming Basic', 'Web Programming','Web Programming', 'Web Programming','Web Programming', 'Web Programming','Web Programming', 'Web Programming','Web Programming', 'Web Programming'],\n",
    "    'grade': [80, 90, 100, 100, 50, 40, 70, 70, 60, 70, 80, 80, 90, 90, 60, 95, 85, 90 ]\n",
    "}\n",
    "\n",
    "# Membuat DataFrame\n",
    "df = pd.DataFrame(data)\n",
    "\n",
    "# Menampilkan DataFrame\n",
    "print(df)\n"
   ]
  },
  {
   "cell_type": "code",
   "execution_count": 12,
   "id": "f047cd3e-691d-4952-bf8a-b7ffd9f88ddc",
   "metadata": {},
   "outputs": [
    {
     "name": "stdout",
     "output_type": "stream",
     "text": [
      "    student number   name            subject  grade description\n",
      "0              101  Andri  Programming Basic     80        PASS\n",
      "1              102   Budi  Programming Basic     90        PASS\n",
      "2              103   Cika  Programming Basic    100        PASS\n",
      "3              104   Dedi  Programming Basic    100        PASS\n",
      "4              105    Eka  Programming Basic     50        FAIL\n",
      "5              106   Feri  Programming Basic     40        FAIL\n",
      "6              107  Galih  Programming Basic     70        PASS\n",
      "7              108   Huda  Programming Basic     70        PASS\n",
      "8              109  Intan  Programming Basic     60        FAIL\n",
      "9              101  Andri    Web Programming     70        PASS\n",
      "10             102   Budi    Web Programming     80        PASS\n",
      "11             103   Cika    Web Programming     80        PASS\n",
      "12             104   Dedi    Web Programming     90        PASS\n",
      "13             105    Eka    Web Programming     90        PASS\n",
      "14             106   Feri    Web Programming     60        FAIL\n",
      "15             107  Galih    Web Programming     95        PASS\n",
      "16             108   Huda    Web Programming     85        PASS\n",
      "17             109  Intan    Web Programming     90        PASS\n"
     ]
    }
   ],
   "source": [
    "import pandas as pd\n",
    "\n",
    "# Data untuk tabel\n",
    "data = {\n",
    "    'student number': [101, 102, 103, 104, 105, 106, 107, 108, 109, 101, 102, 103, 104, 105, 106, 107, 108, 109],\n",
    "    'name': ['Andri', 'Budi', 'Cika', 'Dedi', 'Eka', 'Feri', 'Galih', 'Huda', 'Intan', 'Andri', 'Budi', 'Cika', 'Dedi', 'Eka', 'Feri', 'Galih', 'Huda', 'Intan'],\n",
    "    'subject': ['Programming Basic', 'Programming Basic', 'Programming Basic', 'Programming Basic', 'Programming Basic', 'Programming Basic', 'Programming Basic', 'Programming Basic','Programming Basic', 'Web Programming','Web Programming', 'Web Programming','Web Programming', 'Web Programming','Web Programming', 'Web Programming','Web Programming', 'Web Programming'],\n",
    "    'grade': [80, 90, 100, 100, 50, 40, 70, 70, 60, 70, 80, 80, 90, 90, 60, 95, 85, 90 ]\n",
    "}\n",
    "\n",
    "# Membuat DataFrame\n",
    "df = pd.DataFrame(data)\n",
    "\n",
    "# Menambahkan kolom 'description' berdasarkan nilai 'grade'\n",
    "df['description'] = df['grade'].apply(lambda x: 'PASS' if x >= 70 else 'FAIL')\n",
    "\n",
    "# Menampilkan DataFrame\n",
    "print(df)"
   ]
  },
  {
   "cell_type": "code",
   "execution_count": 15,
   "id": "7228339a-a39e-4538-a67c-d374b6aab80a",
   "metadata": {},
   "outputs": [
    {
     "name": "stdout",
     "output_type": "stream",
     "text": [
      "    student number   name  mean\n",
      "0              101  Andri  75.0\n",
      "1              101  Andri  75.0\n",
      "2              102   Budi  85.0\n",
      "3              102   Budi  85.0\n",
      "4              103   Cika  90.0\n",
      "5              103   Cika  90.0\n",
      "6              104   Dedi  95.0\n",
      "7              104   Dedi  95.0\n",
      "8              105    Eka  70.0\n",
      "9              105    Eka  70.0\n",
      "10             106   Feri  50.0\n",
      "11             106   Feri  50.0\n",
      "12             107  Galih  82.5\n",
      "13             107  Galih  82.5\n",
      "14             108   Huda  77.5\n",
      "15             108   Huda  77.5\n",
      "16             109  Intan  75.0\n",
      "17             109  Intan  75.0\n"
     ]
    }
   ],
   "source": [
    "import pandas as pd\n",
    "\n",
    "# Data untuk tabel\n",
    "data = {\n",
    "    'student number': [101, 102, 103, 104, 105, 106, 107, 108, 109, 101, 102, 103, 104, 105, 106, 107, 108, 109],\n",
    "    'name': ['Andri', 'Budi', 'Cika', 'Dedi', 'Eka', 'Feri', 'Galih', 'Huda', 'Intan', 'Andri', 'Budi', 'Cika', 'Dedi', 'Eka', 'Feri', 'Galih', 'Huda', 'Intan'],\n",
    "    'subject': ['Programming Basic', 'Programming Basic', 'Programming Basic', 'Programming Basic', 'Programming Basic', 'Programming Basic', 'Programming Basic', 'Programming Basic', 'Programming Basic', 'Web Programming', 'Web Programming', 'Web Programming', 'Web Programming', 'Web Programming', 'Web Programming', 'Web Programming', 'Web Programming', 'Web Programming'],\n",
    "    'grade': [80, 90, 100, 100, 50, 40, 70, 70, 60, 70, 80, 80, 90, 90, 60, 95, 85, 90]\n",
    "}\n",
    "\n",
    "# Membuat DataFrame\n",
    "df = pd.DataFrame(data)\n",
    "\n",
    "# Menambahkan kolom 'description' berdasarkan nilai 'grade'\n",
    "df['description'] = df['grade'].apply(lambda x: 'PASS' if x >= 70 else 'FAIL')\n",
    "\n",
    "# Menghitung rata-rata nilai per student\n",
    "mean_grades = df.groupby(['student number', 'name'])['grade'].mean().reset_index()\n",
    "\n",
    "# Mengubah nama kolom 'grade' menjadi 'mean'\n",
    "mean_grades.rename(columns={'grade': 'mean'}, inplace=True)\n",
    "\n",
    "# Menggabungkan rata-rata nilai ke DataFrame asli\n",
    "df = pd.merge(df, mean_grades, on=['student number', 'name'])\n",
    "\n",
    "# Menampilkan DataFrame dengan kolom student number, name, dan mean\n",
    "print(df[['student number', 'name', 'mean']])\n"
   ]
  },
  {
   "cell_type": "code",
   "execution_count": 32,
   "id": "55dae30f-3c6c-4b20-8b8e-a2b54d37dd72",
   "metadata": {},
   "outputs": [
    {
     "data": {
      "image/png": "[encoded data removed]",
      "text/plain": [
       "<Figure size 1000x600 with 1 Axes>"
      ]
     },
     "metadata": {},
     "output_type": "display_data"
    }
   ],
   "source": [
    "import pandas as pd\n",
    "import matplotlib.pyplot as plt\n",
    "\n",
    "# Data untuk tabel\n",
    "data = {\n",
    "    'student number': [101, 102, 103, 104, 105, 106, 107, 108, 109, 101, 102, 103, 104, 105, 106, 107, 108, 109],\n",
    "    'name': ['Andri', 'Budi', 'Cika', 'Dedi', 'Eka', 'Feri', 'Galih', 'Huda', 'Intan', 'Andri', 'Budi', 'Cika', 'Dedi', 'Eka', 'Feri', 'Galih', 'Huda', 'Intan'],\n",
    "    'subject': ['Programming Basic', 'Programming Basic', 'Programming Basic', 'Programming Basic', 'Programming Basic', 'Programming Basic', 'Programming Basic', 'Programming Basic', 'Programming Basic', 'Web Programming', 'Web Programming', 'Web Programming', 'Web Programming', 'Web Programming', 'Web Programming', 'Web Programming', 'Web Programming', 'Web Programming'],\n",
    "    'grade': [80, 90, 100, 100, 50, 40, 70, 70, 60, 70, 80, 80, 90, 90, 60, 95, 85, 90]\n",
    "}\n",
    "\n",
    "# Membuat DataFrame\n",
    "df = pd.DataFrame(data)\n",
    "\n",
    "# Menghitung rata-rata nilai per student\n",
    "mean_grades = df.groupby(['student number', 'name'])['grade'].mean().reset_index()\n",
    "\n",
    "# Mengubah nama kolom 'grade' menjadi 'mean'\n",
    "mean_grades.rename(columns={'grade': 'mean'}, inplace=True)\n",
    "\n",
    "# Membuat visualisasi\n",
    "plt.figure(figsize=(10, 6))\n",
    "plt.bar(mean_grades['name'], mean_grades['mean'], color='#26619C')\n",
    "plt.xlabel('Student Name')\n",
    "plt.ylabel('Mean Grade')\n",
    "plt.title('Mean Grade per Student')\n",
    "plt.xticks(rotation=45)\n",
    "plt.ylim(0, 100)\n",
    "plt.tight_layout()\n",
    "plt.show()\n"
   ]
  },
  {
   "cell_type": "code",
   "execution_count": 29,
   "id": "9d295c57-cfcd-49f6-9bbe-fad406a9b583",
   "metadata": {},
   "outputs": [
    {
     "name": "stdout",
     "output_type": "stream",
     "text": [
      "DataFrame:\n",
      "    student number   name            subject  grade\n",
      "0              101  Andri  Programming Basic     80\n",
      "1              102   Budi  Programming Basic     90\n",
      "2              103   Cika  Programming Basic    100\n",
      "3              104   Dedi  Programming Basic    100\n",
      "4              105    Eka  Programming Basic     50\n",
      "5              106   Feri  Programming Basic     40\n",
      "6              107  Galih  Programming Basic     70\n",
      "7              108   Huda  Programming Basic     70\n",
      "8              109  Intan  Programming Basic     60\n",
      "9              101  Andri    Web Programming     70\n",
      "10             102   Budi    Web Programming     80\n",
      "11             103   Cika    Web Programming     80\n",
      "12             104   Dedi    Web Programming     90\n",
      "13             105    Eka    Web Programming     90\n",
      "14             106   Feri    Web Programming     60\n",
      "15             107  Galih    Web Programming     95\n",
      "16             108   Huda    Web Programming     85\n",
      "17             109  Intan    Web Programming     90\n",
      "\n",
      "Data dengan nilai lebih besar dari 80:\n",
      "{'student number': 102, 'name': 'Budi', 'subject': 'Programming Basic', 'grade': 90}\n",
      "{'student number': 103, 'name': 'Cika', 'subject': 'Programming Basic', 'grade': 100}\n",
      "{'student number': 104, 'name': 'Dedi', 'subject': 'Programming Basic', 'grade': 100}\n",
      "{'student number': 104, 'name': 'Dedi', 'subject': 'Web Programming', 'grade': 90}\n",
      "{'student number': 105, 'name': 'Eka', 'subject': 'Web Programming', 'grade': 90}\n",
      "{'student number': 107, 'name': 'Galih', 'subject': 'Web Programming', 'grade': 95}\n",
      "{'student number': 108, 'name': 'Huda', 'subject': 'Web Programming', 'grade': 85}\n",
      "{'student number': 109, 'name': 'Intan', 'subject': 'Web Programming', 'grade': 90}\n"
     ]
    }
   ],
   "source": [
    "import pandas as pd\n",
    "\n",
    "# Data untuk tabel\n",
    "data = {\n",
    "    'student number': [101, 102, 103, 104, 105, 106, 107, 108, 109, 101, 102, 103, 104, 105, 106, 107, 108, 109],\n",
    "    'name': ['Andri', 'Budi', 'Cika', 'Dedi', 'Eka', 'Feri', 'Galih', 'Huda', 'Intan', 'Andri', 'Budi', 'Cika', 'Dedi', 'Eka', 'Feri', 'Galih', 'Huda', 'Intan'],\n",
    "    'subject': ['Programming Basic', 'Programming Basic', 'Programming Basic', 'Programming Basic', 'Programming Basic', 'Programming Basic', 'Programming Basic', 'Programming Basic','Programming Basic', 'Web Programming','Web Programming', 'Web Programming','Web Programming', 'Web Programming','Web Programming', 'Web Programming','Web Programming', 'Web Programming'],\n",
    "    'grade': [80, 90, 100, 100, 50, 40, 70, 70, 60, 70, 80, 80, 90, 90, 60, 95, 85, 90 ]\n",
    "}\n",
    "\n",
    "# Membuat DataFrame\n",
    "df = pd.DataFrame(data)\n",
    "\n",
    "# Mengubah DataFrame ke dalam bentuk dictionaries\n",
    "data_dict = df.to_dict(orient='records')\n",
    "\n",
    "# Menampilkan DataFrame\n",
    "print(\"DataFrame:\")\n",
    "print(df)\n",
    "\n",
    "# Menampilkan data yang mempunyai nilai lebih besar dari 80\n",
    "print(\"\\nData dengan nilai lebih besar dari 80:\")\n",
    "for record in data_dict:\n",
    "    if record['grade'] > 80:\n",
    "        print(record)\n"
   ]
  },
  {
   "cell_type": "code",
   "execution_count": null,
   "id": "c8bbda53-7bdb-4d06-881f-e87814cabf57",
   "metadata": {},
   "outputs": [],
   "source": []
  }
 ],
 "metadata": {
  "kernelspec": {
   "display_name": "Python 3 (ipykernel)",
   "language": "python",
   "name": "python3"
  },
  "language_info": {
   "codemirror_mode": {
    "name": "ipython",
    "version": 3
   },
   "file_extension": ".py",
   "mimetype": "text/x-python",
   "name": "python",
   "nbconvert_exporter": "python",
   "pygments_lexer": "ipython3",
   "version": "3.11.7"
  }
 },
 "nbformat": 4,
 "nbformat_minor": 5
}
